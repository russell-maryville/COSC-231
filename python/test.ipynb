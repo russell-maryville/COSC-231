{
 "cells": [
  {
   "cell_type": "code",
   "execution_count": 285,
   "metadata": {},
   "outputs": [
    {
     "name": "stdout",
     "output_type": "stream",
     "text": [
      "Requirement already satisfied: opencv-python in c:\\users\\kcr20\\anaconda3\\lib\\site-packages (4.6.0.66)\n",
      "Requirement already satisfied: numpy>=1.14.5 in c:\\users\\kcr20\\anaconda3\\lib\\site-packages (from opencv-python) (1.20.1)\n"
     ]
    }
   ],
   "source": [
    "import numpy as np\n",
    "import pandas as pd \n",
    "import matplotlib.pyplot as plt\n",
    "! pip install opencv-python\n",
    "import cv2\n",
    "import re"
   ]
  },
  {
   "cell_type": "code",
   "execution_count": 286,
   "metadata": {},
   "outputs": [],
   "source": [
    "def cell_number(c):\n",
    "    cell_number_pattern = \"^([0-9]+)([.-]+)([0-9]+)([.-]+)([0-9]+)\"\n",
    "    cell = re.match(cell_number_pattern, c)\n",
    "    print(cell)\n",
    "def work_number(w):\n",
    "    work_number_pattern = \"^([0-9]+)([.-]+)([0-9]+)([.-]+)([0-9]+)(?:\\s*(:|x.|ext.|extension)\\s*([0-9]+))?\"\n",
    "    work = re.match(work_number_pattern, w)\n",
    "    print(work)"
   ]
  },
  {
   "cell_type": "code",
   "execution_count": 287,
   "metadata": {},
   "outputs": [
    {
     "name": "stdout",
     "output_type": "stream",
     "text": [
      "<re.Match object; span=(0, 12), match='480-528-5188'>\n",
      "<re.Match object; span=(0, 20), match='480-528-5188 x. 2805'>\n"
     ]
    }
   ],
   "source": [
    "cell_number(\"480-528-5188\")\n",
    "work_number(\"480-528-5188 x. 2805\")"
   ]
  },
  {
   "cell_type": "code",
   "execution_count": 288,
   "metadata": {},
   "outputs": [],
   "source": [
    "def email(e):\n",
    "    email_pattern = \"^([a-zA-Z0-9_.-]+)([@]+)([a-zA-Z0-9.-]+)([.]+)([a-z]+)\"\n",
    "    em = re.match(email_pattern, e)\n",
    "    print(em)"
   ]
  },
  {
   "cell_type": "code",
   "execution_count": 289,
   "metadata": {},
   "outputs": [
    {
     "name": "stdout",
     "output_type": "stream",
     "text": [
      "<re.Match object; span=(0, 28), match='krussell3@live.maryville.edu'>\n"
     ]
    }
   ],
   "source": [
    "email(\"krussell3@live.maryville.edu\")"
   ]
  },
  {
   "cell_type": "code",
   "execution_count": 345,
   "metadata": {},
   "outputs": [],
   "source": [
    "def address(a):\n",
    "    address_pattern = \"^(\\\\d{1,}) [a-zA-Z0-9\\\\s]+(\\\\.)? [a-zA-Z0-9\\\\s]+(\\\\.)? [a-zA-Z]+(\\\\,)? [a-zA-Z]{1,} [0-9]{5,6}$\"\n",
    "    addy = re.match(address_pattern, a)\n",
    "    print(addy)"
   ]
  },
  {
   "cell_type": "code",
   "execution_count": 346,
   "metadata": {},
   "outputs": [
    {
     "name": "stdout",
     "output_type": "stream",
     "text": [
      "<re.Match object; span=(0, 51), match='12444 Power Dr. Suite 550 St. Louis, Missouri 631>\n"
     ]
    }
   ],
   "source": [
    "address(\"12444 Power Dr. Suite 550 St. Louis, Missouri 63131\")"
   ]
  }
 ],
 "metadata": {
  "kernelspec": {
   "display_name": "Python 3.8.8 ('base')",
   "language": "python",
   "name": "python3"
  },
  "language_info": {
   "codemirror_mode": {
    "name": "ipython",
    "version": 3
   },
   "file_extension": ".py",
   "mimetype": "text/x-python",
   "name": "python",
   "nbconvert_exporter": "python",
   "pygments_lexer": "ipython3",
   "version": "3.8.8"
  },
  "orig_nbformat": 4,
  "vscode": {
   "interpreter": {
    "hash": "28192113f0b84e23bfef1e58cc49e2dbc73a7013f67ab6f269d464e295433254"
   }
  }
 },
 "nbformat": 4,
 "nbformat_minor": 2
}
