{
 "cells": [
  {
   "cell_type": "code",
   "execution_count": 2,
   "metadata": {},
   "outputs": [
    {
     "name": "stdout",
     "output_type": "stream",
     "text": [
      "Requirement already satisfied: pytesseract in c:\\users\\kcr20\\anaconda3\\lib\\site-packages (0.3.10)\n",
      "Requirement already satisfied: Pillow>=8.0.0 in c:\\users\\kcr20\\anaconda3\\lib\\site-packages (from pytesseract) (8.2.0)\n",
      "Requirement already satisfied: packaging>=21.3 in c:\\users\\kcr20\\anaconda3\\lib\\site-packages (from pytesseract) (21.3)\n",
      "Requirement already satisfied: pyparsing!=3.0.5,>=2.0.2 in c:\\users\\kcr20\\anaconda3\\lib\\site-packages (from packaging>=21.3->pytesseract) (2.4.7)\n"
     ]
    }
   ],
   "source": [
    "import numpy as np \n",
    "import pandas as pd \n",
    "import matplotlib.pyplot as plt\n",
    "\n",
    "import re # used to find matches\n",
    "\n",
    "! pip install pytesseract\n",
    "\n",
    "from PIL import Image\n",
    "from pytesseract import pytesseract # used to extract text from image\n"
   ]
  },
  {
   "cell_type": "code",
   "execution_count": 69,
   "metadata": {},
   "outputs": [
    {
     "name": "stdout",
     "output_type": "stream",
     "text": [
      "Benjamin W. Fischer\n",
      "\n",
      "Commander, U.S. Navy\n",
      "Executive Officer\n",
      "\n",
      "AMERIC A'S\n",
      "\n",
      "Navy Recruiting District St. Louis N Z\n",
      "1222 Spruce Street, 10th Floor SI §2\n",
      "St. Louis, MO 63103 |\n",
      "Office: (314) 331-4293 FORGED BY THE SEA\n",
      "\n",
      "Cell: (614) 312-9044\n",
      "benjamin.w.fischer@navy.mil navy.com | 1-800-USA-NAVY\n",
      "\n"
     ]
    }
   ],
   "source": [
    "path = r\"C:\\Program Files\\Tesseract-OCR\\tesseract.exe\"\n",
    "\n",
    "image = r\"C:\\Users\\kcr20\\OneDrive\\Desktop\\IMG_9482.JPG\"\n",
    "\n",
    "open_image = Image.open(image)\n",
    "\n",
    "pytesseract.tesseract_cmd = path\n",
    "\n",
    "read_text = pytesseract.image_to_string(open_image)\n",
    "\n",
    "print(read_text[:-1])"
   ]
  },
  {
   "cell_type": "code",
   "execution_count": 34,
   "metadata": {},
   "outputs": [],
   "source": [
    "def cell_number(c):\n",
    "    cell_number_pattern = \"[\\+\\(]?[1-9][0-9 .\\-\\(\\)]{8,}[0-9]\" # cell phone match\n",
    "    cell = re.findall(cell_number_pattern, c)\n",
    "    print(cell)\n",
    "#^([0-9]+)([.-]+)([0-9]+)([.-]+)([0-9]+)"
   ]
  },
  {
   "cell_type": "code",
   "execution_count": 57,
   "metadata": {},
   "outputs": [
    {
     "name": "stdout",
     "output_type": "stream",
     "text": [
      "['314.721.7799', '615.5879599']\n",
      "[('x2', '805'), ('', '')]\n"
     ]
    }
   ],
   "source": [
    "cell_number(read_text) # testing"
   ]
  },
  {
   "cell_type": "code",
   "execution_count": 67,
   "metadata": {},
   "outputs": [
    {
     "name": "stdout",
     "output_type": "stream",
     "text": [
      "['(314) 331-4293', '(614) 312-9044']\n",
      "['benjamin.w.fischer@navy.mil']\n",
      "None\n"
     ]
    }
   ],
   "source": [
    "cell = re.findall(r'[\\+\\(]?[1-9][0-9 .\\-\\(\\)]{8,}[0-9]', read_text)\n",
    "print(cell)\n",
    "# phone number works\n",
    "email = re.findall(r'[\\w\\.-]+@[\\w\\.-]+', read_text)\n",
    "print(email)\n",
    "# email works\n",
    "addy = re.match(r'^(\\\\d{1,}) [a-zA-Z0-9\\\\s]+(\\\\.)? [a-zA-Z0-9\\\\s]+(\\\\.)? [a-zA-Z]+(\\\\,)? [a-zA-Z]{1,} [0-9]{5,6}$', read_text)\n",
    "print(addy)"
   ]
  },
  {
   "cell_type": "code",
   "execution_count": 38,
   "metadata": {},
   "outputs": [],
   "source": [
    "def email(e):\n",
    "    email_pattern = \"[a-z0-9\\.\\-+_]+@[a-z0-9\\.\\-+_]+\\.[a-z]+\" # email address matching\n",
    "    em = re.findall(email_pattern, e)\n",
    "    print(em)"
   ]
  },
  {
   "cell_type": "code",
   "execution_count": 39,
   "metadata": {},
   "outputs": [
    {
     "name": "stdout",
     "output_type": "stream",
     "text": [
      "['scottphillips@parkwayschools.net']\n"
     ]
    }
   ],
   "source": [
    "email(read_text) # testing"
   ]
  },
  {
   "cell_type": "code",
   "execution_count": 52,
   "metadata": {},
   "outputs": [],
   "source": [
    "def address(a):\n",
    "    address_pattern = \"^(\\\\d{1,}) [a-zA-Z0-9\\\\s]+(\\\\.)? [a-zA-Z0-9\\\\s]+(\\\\.)? [a-zA-Z]+(\\\\,)? [a-zA-Z]{1,} [0-9]{5,6}$\" # home address matching\n",
    "    addy = re.match(address_pattern, a)\n",
    "    print(addy)"
   ]
  },
  {
   "cell_type": "code",
   "execution_count": 70,
   "metadata": {},
   "outputs": [
    {
     "name": "stdout",
     "output_type": "stream",
     "text": [
      "None\n"
     ]
    }
   ],
   "source": [
    "address(read_text) # testing"
   ]
  }
 ],
 "metadata": {
  "kernelspec": {
   "display_name": "Python 3.8.8 ('base')",
   "language": "python",
   "name": "python3"
  },
  "language_info": {
   "codemirror_mode": {
    "name": "ipython",
    "version": 3
   },
   "file_extension": ".py",
   "mimetype": "text/x-python",
   "name": "python",
   "nbconvert_exporter": "python",
   "pygments_lexer": "ipython3",
   "version": "3.8.8"
  },
  "orig_nbformat": 4,
  "vscode": {
   "interpreter": {
    "hash": "28192113f0b84e23bfef1e58cc49e2dbc73a7013f67ab6f269d464e295433254"
   }
  }
 },
 "nbformat": 4,
 "nbformat_minor": 2
}
