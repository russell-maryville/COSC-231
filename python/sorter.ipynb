{
 "cells": [
  {
   "cell_type": "code",
   "execution_count": 3,
   "metadata": {},
   "outputs": [
    {
     "name": "stdout",
     "output_type": "stream",
     "text": [
      "Requirement already satisfied: pytesseract in c:\\programdata\\anaconda3\\lib\\site-packages (0.3.10)\n",
      "Requirement already satisfied: packaging>=21.3 in c:\\programdata\\anaconda3\\lib\\site-packages (from pytesseract) (21.3)\n",
      "Requirement already satisfied: Pillow>=8.0.0 in c:\\programdata\\anaconda3\\lib\\site-packages (from pytesseract) (9.2.0)\n",
      "Requirement already satisfied: pyparsing!=3.0.5,>=2.0.2 in c:\\programdata\\anaconda3\\lib\\site-packages (from packaging>=21.3->pytesseract) (3.0.9)\n"
     ]
    }
   ],
   "source": [
    "import numpy as np \n",
    "import pandas as pd \n",
    "import matplotlib.pyplot as plt\n",
    "\n",
    "import re # used to find matches\n",
    "\n",
    "! pip install pytesseract\n",
    "\n",
    "from PIL import Image\n",
    "from pytesseract import pytesseract # used to extract text from image\n"
   ]
  },
  {
   "cell_type": "code",
   "execution_count": 188,
   "metadata": {},
   "outputs": [
    {
     "name": "stdout",
     "output_type": "stream",
     "text": [
      "Dan Collins cra\n",
      "Vice President, Investment Management Systems Administration\n",
      "RGA Investments\n",
      "\n",
      "16600 Swingley Ridge Road\n",
      "Chesterfield, Missouri 63017-1706\n",
      "\n",
      "T 636.736.8047 M 314.814.7026\n",
      "dcollins@rgare.com www.rgare.com\n",
      "\n"
     ]
    }
   ],
   "source": [
    "path = r\"C:\\Program Files\\Tesseract-OCR\\tesseract.exe\"\n",
    "\n",
    "# image = r\"C:\\Users\\kcr20\\OneDrive\\Desktop\\IMG_9482.JPG\" # Ken's image\n",
    "\n",
    "\n",
    "#image = r\"C:\\Users\\rthom\\Desktop\\Business_Card_project_ COSC 231\\IMG_9482.jfif\" # Ryan's image US Navy\n",
    "\n",
    "# image = r\"C:\\Users\\rthom\\Desktop\\Business_Card_project_ COSC 231\\BC.jpg\" # Ryan's image Case \n",
    "\n",
    "image = r\"C:\\Users\\rthom\\Desktop\\Business_Card_project_ COSC 231\\RGA.jfif\" # Ryan's image RGA\n",
    "\n",
    "open_image = Image.open(image)\n",
    "\n",
    "pytesseract.tesseract_cmd = path\n",
    "\n",
    "read_text = pytesseract.image_to_string(open_image)\n",
    "\n",
    "print(read_text[:-1])"
   ]
  },
  {
   "cell_type": "code",
   "execution_count": 144,
   "metadata": {},
   "outputs": [],
   "source": [
    "def cell_number(c):\n",
    "    cell_number_pattern = \"[\\+\\(]?[1-9][0-9 .\\-\\(\\)]{8,}[0-9]\" # cell phone match\n",
    "    cell = re.findall(cell_number_pattern, c)\n",
    "    print(cell)\n",
    "#^([0-9]+)([.-]+)([0-9]+)([.-]+)([0-9]+)"
   ]
  },
  {
   "cell_type": "code",
   "execution_count": 145,
   "metadata": {},
   "outputs": [
    {
     "name": "stdout",
     "output_type": "stream",
     "text": [
      "The scanner will identify all phone numbers on the card\n",
      "['63017-1706', '636.736.8047', '314.814.7026']\n"
     ]
    }
   ],
   "source": [
    "print(\"The scanner will identify all phone numbers on the card\")\n",
    "cell_number(read_text) # testing"
   ]
  },
  {
   "cell_type": "code",
   "execution_count": 189,
   "metadata": {},
   "outputs": [
    {
     "name": "stdout",
     "output_type": "stream",
     "text": [
      "['63017-1706', '636.736.8047', '314.814.7026']\n",
      "['dcollins@rgare.com']\n",
      "None\n"
     ]
    }
   ],
   "source": [
    "cell = re.findall(r'[\\+\\(]?[1-9][0-9 .\\-\\(\\)]{8,}[0-9]', read_text)\n",
    "print(cell)\n",
    "# phone number works\n",
    "\n",
    "email = re.findall(r'[\\w\\.-]+@[\\w\\.-]+', read_text)\n",
    "print(email)\n",
    "# email works\n",
    "\n",
    "addy = re.match(r'^(\\\\d{1,}) [a-zA-Z0-9\\\\s]+(\\\\.)? [a-zA-Z0-9\\\\s]+(\\\\.)? [a-zA-Z]+(\\\\,)? [a-zA-Z]{1,} [0-9]{5,6}$', read_text)\n",
    "print(addy) # address don't work"
   ]
  },
  {
   "cell_type": "code",
   "execution_count": 190,
   "metadata": {},
   "outputs": [],
   "source": [
    "def email(e):\n",
    "    email_pattern = \"[a-z0-9\\.\\-+_]+@[a-z0-9\\.\\-+_]+\\.[a-z]+\" # email address matching\n",
    "    em = re.findall(email_pattern, e)\n",
    "    print(em)"
   ]
  },
  {
   "cell_type": "code",
   "execution_count": 191,
   "metadata": {},
   "outputs": [
    {
     "name": "stdout",
     "output_type": "stream",
     "text": [
      "['dcollins@rgare.com']\n"
     ]
    }
   ],
   "source": [
    "email(read_text) # testing"
   ]
  },
  {
   "cell_type": "code",
   "execution_count": 150,
   "metadata": {},
   "outputs": [
    {
     "name": "stdout",
     "output_type": "stream",
     "text": [
      "None\n"
     ]
    }
   ],
   "source": [
    "addy = re.match(r'^(\\\\d{1,}) [a-zA-Z0-9\\\\s]+(\\\\.)? [a-zA-Z0-9\\\\s]+(\\\\.)? [a-zA-Z]+(\\\\,)? [a-zA-Z]{1,} [0-9]{5,6}$', read_text)\n",
    "print(addy)"
   ]
  },
  {
   "cell_type": "code",
   "execution_count": 152,
   "metadata": {},
   "outputs": [],
   "source": [
    "def address(a):\n",
    "    address_pattern = \"^(\\\\d{1,}) [a-zA-Z0-9\\\\s]+(\\\\.)? [a-zA-Z0-9\\\\s]+(\\\\.)? [a-zA-Z]+(\\\\,)? [a-zA-Z]{1,} [0-9]{5,6}$\" # home address matching\n",
    "    addy = re.match(address_pattern, a)\n",
    "    print(addy)"
   ]
  },
  {
   "cell_type": "code",
   "execution_count": 153,
   "metadata": {},
   "outputs": [
    {
     "name": "stdout",
     "output_type": "stream",
     "text": [
      "None\n"
     ]
    }
   ],
   "source": [
    "\n",
    "address(read_text) # testing"
   ]
  },
  {
   "cell_type": "markdown",
   "metadata": {},
   "source": [
    "Figuring out how to find home address"
   ]
  },
  {
   "cell_type": "code",
   "execution_count": 198,
   "metadata": {},
   "outputs": [
    {
     "name": "stdout",
     "output_type": "stream",
     "text": [
      "['16600 Swingley Ridge Road']\n"
     ]
    }
   ],
   "source": [
    "\n",
    "# ^(\\\\d{1,}) [a-zA-Z0-9\\\\s]+(\\\\.)? [a-zA-Z0-9\\\\s]+(\\\\.)? [a-zA-Z]+(\\\\,)? [a-zA-Z]{1,} [0-9]{5,6}$ # don't work\n",
    "\n",
    "homeAd_pattern = r'[0-9]+ [a-zA-Z]+ [a-zA-Z]+ [a-zA-Z]+' # got it to find street of home address\n",
    "\n",
    "match_1 = re.findall(homeAd_pattern, read_text)\n",
    "\n",
    "print(match_1)\n",
    "\n"
   ]
  },
  {
   "cell_type": "markdown",
   "metadata": {},
   "source": [
    "Got it to find the title and full name of the cardholder"
   ]
  },
  {
   "cell_type": "code",
   "execution_count": 178,
   "metadata": {},
   "outputs": [
    {
     "name": "stdout",
     "output_type": "stream",
     "text": [
      "<re.Match object; span=(0, 11), match='Dan Collins'>\n"
     ]
    },
    {
     "data": {
      "text/plain": [
       "'Dan Collins'"
      ]
     },
     "execution_count": 178,
     "metadata": {},
     "output_type": "execute_result"
    }
   ],
   "source": [
    "full_name = re.match(r\"(?P<first_name>\\w+) (?P<last_name>\\w+)\", read_text)\n",
    "print(full_name)\n",
    "\n",
    "full_name.group()"
   ]
  },
  {
   "cell_type": "code",
   "execution_count": 199,
   "metadata": {},
   "outputs": [
    {
     "name": "stdout",
     "output_type": "stream",
     "text": [
      "['Dan Collins cra\\nVice President, Investment Management Systems Administration']\n"
     ]
    }
   ],
   "source": [
    "name_title = re.findall(r'[^0-9]+ [a-zA-Z]+ [a-zA-Z]+ [a-zA-Z]+', read_text) # reads full name and title, works\n",
    "\n",
    "print(name_title)"
   ]
  }
 ],
 "metadata": {
  "kernelspec": {
   "display_name": "Python 3.9.13 ('base')",
   "language": "python",
   "name": "python3"
  },
  "language_info": {
   "codemirror_mode": {
    "name": "ipython",
    "version": 3
   },
   "file_extension": ".py",
   "mimetype": "text/x-python",
   "name": "python",
   "nbconvert_exporter": "python",
   "pygments_lexer": "ipython3",
   "version": "3.9.13"
  },
  "orig_nbformat": 4,
  "vscode": {
   "interpreter": {
    "hash": "ad2bdc8ecc057115af97d19610ffacc2b4e99fae6737bb82f5d7fb13d2f2c186"
   }
  }
 },
 "nbformat": 4,
 "nbformat_minor": 2
}
