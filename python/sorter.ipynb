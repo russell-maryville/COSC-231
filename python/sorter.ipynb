{
 "cells": [
  {
   "cell_type": "code",
   "execution_count": 1,
   "metadata": {},
   "outputs": [
    {
     "name": "stdout",
     "output_type": "stream",
     "text": [
      "Requirement already satisfied: pytesseract in c:\\programdata\\anaconda3\\lib\\site-packages (0.3.10)\n",
      "Requirement already satisfied: packaging>=21.3 in c:\\programdata\\anaconda3\\lib\\site-packages (from pytesseract) (21.3)\n",
      "Requirement already satisfied: Pillow>=8.0.0 in c:\\programdata\\anaconda3\\lib\\site-packages (from pytesseract) (9.2.0)\n",
      "Requirement already satisfied: pyparsing!=3.0.5,>=2.0.2 in c:\\programdata\\anaconda3\\lib\\site-packages (from packaging>=21.3->pytesseract) (3.0.9)\n"
     ]
    }
   ],
   "source": [
    "import numpy as np \n",
    "import pandas as pd \n",
    "import matplotlib.pyplot as plt\n",
    "\n",
    "import re # used to find matches\n",
    "\n",
    "! pip install pytesseract\n",
    "\n",
    "from PIL import Image\n",
    "from pytesseract import pytesseract # used to extract text from image\n"
   ]
  },
  {
   "cell_type": "code",
   "execution_count": 2,
   "metadata": {},
   "outputs": [
    {
     "name": "stdout",
     "output_type": "stream",
     "text": [
      "Benjamin W. Fischer\n",
      "\n",
      "Commander, U.S. Navy\n",
      "Executive Officer\n",
      "\n",
      "AMERICA‘S\n",
      "\n",
      "Navy Recruiting District St. Louis N Z\n",
      "1222 Spruce Street, 10th Floor Ra\"?\n",
      "\n",
      "St. Louis, MO 63103\n",
      "\n",
      "Office: (314) 331-4293 FORGED BY THE SEA\n",
      "\n",
      "Cell: (614) 312-9044\n",
      "benjamin.w.fischer@navy.mil navy.com | 1-800-USA-NAVY\n",
      "\n"
     ]
    }
   ],
   "source": [
    "path = r\"C:\\Program Files\\Tesseract-OCR\\tesseract.exe\"\n",
    "\n",
    "# image = r\"C:\\Users\\kcr20\\OneDrive\\Desktop\\IMG_9482.JPG\" # Ken's image\n",
    "\n",
    "\n",
    "image = r\"C:\\Users\\rthom\\Desktop\\Business_Card_project_ COSC 231\\IMG_9482.jfif\" # Ryan's image\n",
    "\n",
    "open_image = Image.open(image)\n",
    "\n",
    "pytesseract.tesseract_cmd = path\n",
    "\n",
    "read_text = pytesseract.image_to_string(open_image)\n",
    "\n",
    "print(read_text[:-1])"
   ]
  },
  {
   "cell_type": "code",
   "execution_count": 3,
   "metadata": {},
   "outputs": [],
   "source": [
    "def cell_number(c):\n",
    "    cell_number_pattern = \"[\\+\\(]?[1-9][0-9 .\\-\\(\\)]{8,}[0-9]\" # cell phone match\n",
    "    cell = re.findall(cell_number_pattern, c)\n",
    "    print(cell)\n",
    "#^([0-9]+)([.-]+)([0-9]+)([.-]+)([0-9]+)"
   ]
  },
  {
   "cell_type": "code",
   "execution_count": 4,
   "metadata": {},
   "outputs": [
    {
     "name": "stdout",
     "output_type": "stream",
     "text": [
      "The scanner will identify all phone numbers on the card\n",
      "['(314) 331-4293', '(614) 312-9044']\n"
     ]
    }
   ],
   "source": [
    "print(\"The scanner will identify all phone numbers on the card\")\n",
    "cell_number(read_text) # testing"
   ]
  },
  {
   "cell_type": "code",
   "execution_count": 5,
   "metadata": {},
   "outputs": [
    {
     "name": "stdout",
     "output_type": "stream",
     "text": [
      "['(314) 331-4293', '(614) 312-9044']\n",
      "['benjamin.w.fischer@navy.mil']\n",
      "None\n"
     ]
    }
   ],
   "source": [
    "cell = re.findall(r'[\\+\\(]?[1-9][0-9 .\\-\\(\\)]{8,}[0-9]', read_text)\n",
    "print(cell)\n",
    "# phone number works\n",
    "email = re.findall(r'[\\w\\.-]+@[\\w\\.-]+', read_text)\n",
    "print(email)\n",
    "# email works\n",
    "addy = re.match(r'^(\\\\d{1,}) [a-zA-Z0-9\\\\s]+(\\\\.)? [a-zA-Z0-9\\\\s]+(\\\\.)? [a-zA-Z]+(\\\\,)? [a-zA-Z]{1,} [0-9]{5,6}$', read_text)\n",
    "print(addy)"
   ]
  },
  {
   "cell_type": "code",
   "execution_count": 6,
   "metadata": {},
   "outputs": [],
   "source": [
    "def email(e):\n",
    "    email_pattern = \"[a-z0-9\\.\\-+_]+@[a-z0-9\\.\\-+_]+\\.[a-z]+\" # email address matching\n",
    "    em = re.findall(email_pattern, e)\n",
    "    print(em)"
   ]
  },
  {
   "cell_type": "code",
   "execution_count": 7,
   "metadata": {},
   "outputs": [
    {
     "name": "stdout",
     "output_type": "stream",
     "text": [
      "['benjamin.w.fischer@navy.mil']\n"
     ]
    }
   ],
   "source": [
    "email(read_text) # testing"
   ]
  },
  {
   "cell_type": "code",
   "execution_count": null,
   "metadata": {},
   "outputs": [],
   "source": [
    "def e(i):\n",
    "    e_pattern = "
   ]
  },
  {
   "cell_type": "code",
   "execution_count": 8,
   "metadata": {},
   "outputs": [
    {
     "name": "stdout",
     "output_type": "stream",
     "text": [
      "None\n"
     ]
    }
   ],
   "source": [
    "addy = re.match(r'^(\\\\d{1,}) [a-zA-Z0-9\\\\s]+(\\\\.)? [a-zA-Z0-9\\\\s]+(\\\\.)? [a-zA-Z]+(\\\\,)? [a-zA-Z]{1,} [0-9]{5,6}$', read_text)\n",
    "print(addy)"
   ]
  },
  {
   "cell_type": "code",
   "execution_count": 9,
   "metadata": {},
   "outputs": [],
   "source": [
    "def address(a):\n",
    "    address_pattern = \"^(\\\\d{1,}) [a-zA-Z0-9\\\\s]+(\\\\.)? [a-zA-Z0-9\\\\s]+(\\\\.)? [a-zA-Z]+(\\\\,)? [a-zA-Z]{1,} [0-9]{5,6}$\" # home address matching\n",
    "    addy = re.match(address_pattern, a)\n",
    "    print(addy)"
   ]
  },
  {
   "cell_type": "code",
   "execution_count": 10,
   "metadata": {},
   "outputs": [
    {
     "name": "stdout",
     "output_type": "stream",
     "text": [
      "None\n"
     ]
    }
   ],
   "source": [
    "\n",
    "address(read_text) # testing"
   ]
  },
  {
   "cell_type": "markdown",
   "metadata": {},
   "source": [
    "Trying to get first and last name of the card. Right now I could only get the first name. Tried many different variations, but all I get is the first name."
   ]
  },
  {
   "cell_type": "code",
   "execution_count": 11,
   "metadata": {},
   "outputs": [
    {
     "name": "stdout",
     "output_type": "stream",
     "text": [
      "<re.Match object; span=(0, 10), match='Benjamin W'>\n"
     ]
    }
   ],
   "source": [
    "full_name = re.match(r\"(?P<first_name>\\w+) (?P<last_name>\\w+)\", read_text)\n",
    "print(full_name)"
   ]
  },
  {
   "cell_type": "code",
   "execution_count": 12,
   "metadata": {},
   "outputs": [],
   "source": [
    "def name(n):\n",
    "    name_pattern = \"(?P<first_name>\\w+) (?P<last_name>\\w+)\"\n",
    "    full_name = re.match(name_pattern, n)\n",
    "    print(full_name)"
   ]
  },
  {
   "cell_type": "code",
   "execution_count": 13,
   "metadata": {},
   "outputs": [
    {
     "name": "stdout",
     "output_type": "stream",
     "text": [
      "<re.Match object; span=(0, 10), match='Benjamin W'>\n"
     ]
    }
   ],
   "source": [
    "name(read_text)"
   ]
  },
  {
   "cell_type": "code",
   "execution_count": 14,
   "metadata": {},
   "outputs": [
    {
     "name": "stdout",
     "output_type": "stream",
     "text": [
      "['Benjamin']\n"
     ]
    }
   ],
   "source": [
    "nameExp2 = r\"^[\\w'\\.]{0,}\"\n",
    "names2 = re.findall(nameExp2, read_text)\n",
    "print(names2)"
   ]
  }
 ],
 "metadata": {
  "kernelspec": {
   "display_name": "Python 3.9.13 ('base')",
   "language": "python",
   "name": "python3"
  },
  "language_info": {
   "codemirror_mode": {
    "name": "ipython",
    "version": 3
   },
   "file_extension": ".py",
   "mimetype": "text/x-python",
   "name": "python",
   "nbconvert_exporter": "python",
   "pygments_lexer": "ipython3",
   "version": "3.9.13"
  },
  "orig_nbformat": 4,
  "vscode": {
   "interpreter": {
    "hash": "ad2bdc8ecc057115af97d19610ffacc2b4e99fae6737bb82f5d7fb13d2f2c186"
   }
  }
 },
 "nbformat": 4,
 "nbformat_minor": 2
}
