{
 "cells": [
  {
   "cell_type": "code",
   "execution_count": 17,
   "metadata": {},
   "outputs": [
    {
     "name": "stdout",
     "output_type": "stream",
     "text": [
      "Requirement already satisfied: pytesseract in c:\\programdata\\anaconda3\\lib\\site-packages (0.3.10)\n",
      "Requirement already satisfied: packaging>=21.3 in c:\\programdata\\anaconda3\\lib\\site-packages (from pytesseract) (21.3)\n",
      "Requirement already satisfied: Pillow>=8.0.0 in c:\\programdata\\anaconda3\\lib\\site-packages (from pytesseract) (9.2.0)\n",
      "Requirement already satisfied: pyparsing!=3.0.5,>=2.0.2 in c:\\programdata\\anaconda3\\lib\\site-packages (from packaging>=21.3->pytesseract) (3.0.9)\n"
     ]
    }
   ],
   "source": [
    "import numpy as np \n",
    "import pandas as pd \n",
    "import matplotlib.pyplot as plt\n",
    "\n",
    "import re # used to find matches\n",
    "\n",
    "! pip install pytesseract\n",
    "\n",
    "from PIL import Image\n",
    "from pytesseract import pytesseract # used to extract text from image\n"
   ]
  },
  {
   "cell_type": "code",
   "execution_count": 35,
   "metadata": {},
   "outputs": [
    {
     "name": "stdout",
     "output_type": "stream",
     "text": [
      "CORPORATE —\n",
      "\n",
      "Cass\n",
      "Information\n",
      "Systems, Inc.\n",
      "\n",
      "Shannon Barton\n",
      "SENIOR HR BUSINESS PARTNER\n",
      "\n",
      "12444 Powerscourt Drive\n",
      "\n",
      "Suite 550 sbarton@ cassinfo.com\n",
      "\n",
      "St. Louis, Missouri 63131 PHONE 314-506-5702\n",
      "FAX 314-506-5699\n",
      "\n",
      "www.cassinfo.com\n"
     ]
    }
   ],
   "source": [
    "path = r\"C:\\Program Files\\Tesseract-OCR\\tesseract.exe\"\n",
    "\n",
    "image = r\"C:\\Users\\rthom\\Desktop\\BC.png\"\n",
    "\n",
    "open_image = Image.open(image)\n",
    "\n",
    "pytesseract.tesseract_cmd = path\n",
    "\n",
    "read_text = pytesseract.image_to_string(open_image)\n",
    "\n",
    "print(read_text[:-1])"
   ]
  },
  {
   "cell_type": "code",
   "execution_count": 36,
   "metadata": {},
   "outputs": [],
   "source": [
    "def cell_number(c):\n",
    "    cell_number_pattern = \"^([0-9]+)([.-]+)([0-9]+)([.-]+)([0-9]+)\" # cell phone match\n",
    "    cell = re.match(cell_number_pattern, c)\n",
    "    print(cell)\n",
    "\n",
    "\n",
    "def work_number(w):\n",
    "    work_number_pattern = \"^([0-9]+)([.-]+)([0-9]+)([.-]+)([0-9]+)(?:\\s*(:|x.|ext.|extension)\\s*([0-9]+))?\" # cell phone match plus extension\n",
    "    work = re.match(work_number_pattern, w)\n",
    "    print(work)"
   ]
  },
  {
   "cell_type": "markdown",
   "metadata": {},
   "source": []
  },
  {
   "cell_type": "code",
   "execution_count": 38,
   "metadata": {},
   "outputs": [],
   "source": [
    "def cell_number(c):\n",
    "    cell_number_pattern = re.compile(r'''(\n",
    "    [0-9]+)([.-]+)([0-9]+)([.-]+)([0-9]+\n",
    "    )''', re.VERBOSE)\n",
    "    #\"^([0-9]+)([.-]+)([0-9]+)([.-]+)([0-9]+)\" # cell phone match\n",
    "    # cell = re.match(cell_number_pattern, c)\n",
    "    matches = []\n",
    "    for groups in cell_number_pattern.findall(c):\n",
    "        cell = '-'.join([groups[0],groups[2],groups[4]])\n",
    "        if groups[8] != '':\n",
    "            cell +=' x' + groups[8]\n",
    "        matches.append(cell)\n",
    "    print(cell)"
   ]
  },
  {
   "cell_type": "code",
   "execution_count": 39,
   "metadata": {},
   "outputs": [
    {
     "ename": "IndexError",
     "evalue": "tuple index out of range",
     "output_type": "error",
     "traceback": [
      "\u001b[1;31m---------------------------------------------------------------------------\u001b[0m",
      "\u001b[1;31mIndexError\u001b[0m                                Traceback (most recent call last)",
      "\u001b[1;32mc:\\Users\\rthom\\Documents\\GitHub\\COSC-231\\python\\sorter.ipynb Cell 6\u001b[0m in \u001b[0;36m<cell line: 1>\u001b[1;34m()\u001b[0m\n\u001b[1;32m----> <a href='vscode-notebook-cell:/c%3A/Users/rthom/Documents/GitHub/COSC-231/python/sorter.ipynb#X16sZmlsZQ%3D%3D?line=0'>1</a>\u001b[0m cell_number(read_text)\n",
      "\u001b[1;32mc:\\Users\\rthom\\Documents\\GitHub\\COSC-231\\python\\sorter.ipynb Cell 6\u001b[0m in \u001b[0;36mcell_number\u001b[1;34m(c)\u001b[0m\n\u001b[0;32m      <a href='vscode-notebook-cell:/c%3A/Users/rthom/Documents/GitHub/COSC-231/python/sorter.ipynb#X16sZmlsZQ%3D%3D?line=7'>8</a>\u001b[0m \u001b[39mfor\u001b[39;00m groups \u001b[39min\u001b[39;00m cell_number_pattern\u001b[39m.\u001b[39mfindall(c):\n\u001b[0;32m      <a href='vscode-notebook-cell:/c%3A/Users/rthom/Documents/GitHub/COSC-231/python/sorter.ipynb#X16sZmlsZQ%3D%3D?line=8'>9</a>\u001b[0m     cell \u001b[39m=\u001b[39m \u001b[39m'\u001b[39m\u001b[39m-\u001b[39m\u001b[39m'\u001b[39m\u001b[39m.\u001b[39mjoin([groups[\u001b[39m0\u001b[39m],groups[\u001b[39m2\u001b[39m],groups[\u001b[39m4\u001b[39m]])\n\u001b[1;32m---> <a href='vscode-notebook-cell:/c%3A/Users/rthom/Documents/GitHub/COSC-231/python/sorter.ipynb#X16sZmlsZQ%3D%3D?line=9'>10</a>\u001b[0m     \u001b[39mif\u001b[39;00m groups[\u001b[39m8\u001b[39;49m] \u001b[39m!=\u001b[39m \u001b[39m'\u001b[39m\u001b[39m'\u001b[39m:\n\u001b[0;32m     <a href='vscode-notebook-cell:/c%3A/Users/rthom/Documents/GitHub/COSC-231/python/sorter.ipynb#X16sZmlsZQ%3D%3D?line=10'>11</a>\u001b[0m         cell \u001b[39m+\u001b[39m\u001b[39m=\u001b[39m\u001b[39m'\u001b[39m\u001b[39m x\u001b[39m\u001b[39m'\u001b[39m \u001b[39m+\u001b[39m groups[\u001b[39m8\u001b[39m]\n\u001b[0;32m     <a href='vscode-notebook-cell:/c%3A/Users/rthom/Documents/GitHub/COSC-231/python/sorter.ipynb#X16sZmlsZQ%3D%3D?line=11'>12</a>\u001b[0m     matches\u001b[39m.\u001b[39mappend(cell)\n",
      "\u001b[1;31mIndexError\u001b[0m: tuple index out of range"
     ]
    }
   ],
   "source": [
    "cell_number(read_text)"
   ]
  },
  {
   "cell_type": "code",
   "execution_count": null,
   "metadata": {},
   "outputs": [],
   "source": [
    "matches = []\n",
    "for groups in re.findall(c):\n",
    "    cell = '-'.join([groups[1],groups[3],groups[5]])\n",
    "    if groups[8] != '':\n",
    "        cell +=' x' + group[8]\n",
    "    matches.append(cell)"
   ]
  },
  {
   "cell_type": "markdown",
   "metadata": {},
   "source": []
  },
  {
   "cell_type": "code",
   "execution_count": null,
   "metadata": {},
   "outputs": [],
   "source": [
    "cell_number(read_text) # testing\n",
    "work_number(read_text)"
   ]
  },
  {
   "cell_type": "code",
   "execution_count": null,
   "metadata": {},
   "outputs": [],
   "source": [
    "def email(e):\n",
    "    email_pattern = \"^([a-zA-Z0-9_.-]+)([@]+)([a-zA-Z0-9.-]+)([.]+)([a-z]+)\" # email address matching\n",
    "    em = re.match(email_pattern, e)\n",
    "    print(em)"
   ]
  },
  {
   "cell_type": "code",
   "execution_count": null,
   "metadata": {},
   "outputs": [],
   "source": [
    "email(\"krussell3@live.maryville.edu\") # testing"
   ]
  },
  {
   "cell_type": "code",
   "execution_count": null,
   "metadata": {},
   "outputs": [],
   "source": [
    "def address(a):\n",
    "    address_pattern = \"^(\\\\d{1,}) [a-zA-Z0-9\\\\s]+(\\\\.)? [a-zA-Z0-9\\\\s]+(\\\\.)? [a-zA-Z]+(\\\\,)? [a-zA-Z]{1,} [0-9]{5,6}$\" # home address matching\n",
    "    addy = re.match(address_pattern, a)\n",
    "    print(addy)"
   ]
  },
  {
   "cell_type": "code",
   "execution_count": null,
   "metadata": {},
   "outputs": [],
   "source": [
    "address(\"12444 Power Dr. Suite 550 St. Louis, Missouri 63131\") # testing"
   ]
  }
 ],
 "metadata": {
  "kernelspec": {
   "display_name": "Python 3.9.13 ('base')",
   "language": "python",
   "name": "python3"
  },
  "language_info": {
   "codemirror_mode": {
    "name": "ipython",
    "version": 3
   },
   "file_extension": ".py",
   "mimetype": "text/x-python",
   "name": "python",
   "nbconvert_exporter": "python",
   "pygments_lexer": "ipython3",
   "version": "3.9.13"
  },
  "orig_nbformat": 4,
  "vscode": {
   "interpreter": {
    "hash": "ad2bdc8ecc057115af97d19610ffacc2b4e99fae6737bb82f5d7fb13d2f2c186"
   }
  }
 },
 "nbformat": 4,
 "nbformat_minor": 2
}
