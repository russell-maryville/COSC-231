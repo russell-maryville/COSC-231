{
 "cells": [
  {
   "cell_type": "code",
   "execution_count": 8,
   "metadata": {},
   "outputs": [
    {
     "name": "stdout",
     "output_type": "stream",
     "text": [
      "Requirement already satisfied: pytesseract in c:\\programdata\\anaconda3\\lib\\site-packages (0.3.10)\n",
      "Requirement already satisfied: Pillow>=8.0.0 in c:\\programdata\\anaconda3\\lib\\site-packages (from pytesseract) (9.2.0)\n",
      "Requirement already satisfied: packaging>=21.3 in c:\\programdata\\anaconda3\\lib\\site-packages (from pytesseract) (21.3)\n",
      "Requirement already satisfied: pyparsing!=3.0.5,>=2.0.2 in c:\\programdata\\anaconda3\\lib\\site-packages (from packaging>=21.3->pytesseract) (3.0.9)\n"
     ]
    }
   ],
   "source": [
    "import re # used to find matches\n",
    "! pip install pytesseract\n",
    "from PIL import Image\n",
    "from pytesseract import pytesseract # used to extract text from image"
   ]
  },
  {
   "cell_type": "markdown",
   "metadata": {},
   "source": [
    "Reading and Extracting Text From Image"
   ]
  },
  {
   "cell_type": "code",
   "execution_count": 9,
   "metadata": {},
   "outputs": [
    {
     "name": "stdout",
     "output_type": "stream",
     "text": [
      "Dan Collins cra\n",
      "Vice President, Investment Management Systems Administration\n",
      "RGA Investments\n",
      "\n",
      "16600 Swingley Ridge Road\n",
      "Chesterfield, Missouri 63017-1706\n",
      "\n",
      "T 636.736.8047 M 314.814.7026\n",
      "dcollins@rgare.com www.rgare.com\n",
      "\n"
     ]
    }
   ],
   "source": [
    "path = r\"C:\\Program Files\\Tesseract-OCR\\tesseract.exe\"\n",
    "\n",
    "image = r\"C:\\Users\\rthom\\Desktop\\Business_Card_project_ COSC 231\\RGA.jfif\" # test image RGA\n",
    "\n",
    "open_image = Image.open(image)\n",
    "\n",
    "pytesseract.tesseract_cmd = path\n",
    "\n",
    "read_text = pytesseract.image_to_string(open_image)\n",
    "\n",
    "print(read_text[:-1])"
   ]
  },
  {
   "cell_type": "markdown",
   "metadata": {},
   "source": [
    "**In this section the algorithms will read the information on the business card, which includes:**\n",
    "* Phone numbers\n",
    "* Email address\n",
    "* Address\n",
    "* Full name and title\n"
   ]
  },
  {
   "cell_type": "markdown",
   "metadata": {},
   "source": [
    "Finding Phone Number or Numbers"
   ]
  },
  {
   "cell_type": "code",
   "execution_count": 10,
   "metadata": {},
   "outputs": [
    {
     "name": "stdout",
     "output_type": "stream",
     "text": [
      "['636.736.8047', '314.814.7026']\n"
     ]
    }
   ],
   "source": [
    "cell = re.findall(r'[1-9][0-9 .\\-\\(\\)]{9,}[0-9]', read_text)\n",
    "print(cell)\n",
    "# test of phone number was successful"
   ]
  },
  {
   "cell_type": "markdown",
   "metadata": {},
   "source": [
    "Finding Email Address"
   ]
  },
  {
   "cell_type": "code",
   "execution_count": 11,
   "metadata": {},
   "outputs": [
    {
     "name": "stdout",
     "output_type": "stream",
     "text": [
      "['dcollins@rgare.com']\n"
     ]
    }
   ],
   "source": [
    "email = re.findall(r'[\\w\\.-]+@[\\w\\.-]+', read_text)\n",
    "print(email)\n",
    "# email works"
   ]
  },
  {
   "cell_type": "markdown",
   "metadata": {},
   "source": [
    "Finding Address"
   ]
  },
  {
   "cell_type": "code",
   "execution_count": 12,
   "metadata": {},
   "outputs": [
    {
     "name": "stdout",
     "output_type": "stream",
     "text": [
      "16600 Swingley Ridge Road Chesterfield, Missouri 63017\n"
     ]
    }
   ],
   "source": [
    "homeAd_pattern1 = r'[0-9]+ [a-zA-Z]+ [a-zA-Z]+ [a-zA-Z]+' # first part of mailing address\n",
    "\n",
    "match_1 = re.findall(homeAd_pattern1, read_text)\n",
    "\n",
    "# print(match_1) # for testing address 1\n",
    "\n",
    "homeAd_pattern2 = r'[a-zA-Z]+[,]+ [a-zA-Z]+ [0-9]{1,6}' # second part of mailing address\n",
    "\n",
    "match_2= re.findall(homeAd_pattern2, read_text)\n",
    "\n",
    "# print(match_2) # for testing address 2\n",
    "\n",
    "match_1= ''.join(match_1)\n",
    "\n",
    "match_2 = ''.join(match_2)\n",
    "\n",
    "match_3 = match_1 + \" \" + match_2\n",
    "\n",
    "print(match_3)\n",
    "\n",
    "# address works"
   ]
  },
  {
   "cell_type": "markdown",
   "metadata": {},
   "source": [
    "Finding Full Name and Title of the Cardholder"
   ]
  },
  {
   "cell_type": "code",
   "execution_count": 13,
   "metadata": {},
   "outputs": [
    {
     "name": "stdout",
     "output_type": "stream",
     "text": [
      "Dan\n",
      "Collins\n"
     ]
    }
   ],
   "source": [
    "full_name = re.match(r\"(?P<first_name>\\w+) (?P<last_name>\\w+)\", read_text)\n",
    "\n",
    "first_name = full_name.group(1)\n",
    "\n",
    "last_name= full_name.group(2)\n",
    "\n",
    "print(first_name)\n",
    "print(last_name)\n",
    "\n"
   ]
  },
  {
   "cell_type": "code",
   "execution_count": 14,
   "metadata": {},
   "outputs": [
    {
     "name": "stdout",
     "output_type": "stream",
     "text": [
      "['Dan Collins cra\\nVice President, Investment Management Systems Administration']\n"
     ]
    }
   ],
   "source": [
    "name_title = re.findall(r'[^0-9]+ [a-zA-Z]+ [a-zA-Z]+ [a-zA-Z]+', read_text) # reads full name and title, works\n",
    "\n",
    "print(name_title)"
   ]
  }
 ],
 "metadata": {
  "kernelspec": {
   "display_name": "Python 3.9.13 ('base')",
   "language": "python",
   "name": "python3"
  },
  "language_info": {
   "codemirror_mode": {
    "name": "ipython",
    "version": 3
   },
   "file_extension": ".py",
   "mimetype": "text/x-python",
   "name": "python",
   "nbconvert_exporter": "python",
   "pygments_lexer": "ipython3",
   "version": "3.9.13"
  },
  "orig_nbformat": 4,
  "vscode": {
   "interpreter": {
    "hash": "ad2bdc8ecc057115af97d19610ffacc2b4e99fae6737bb82f5d7fb13d2f2c186"
   }
  }
 },
 "nbformat": 4,
 "nbformat_minor": 2
}
